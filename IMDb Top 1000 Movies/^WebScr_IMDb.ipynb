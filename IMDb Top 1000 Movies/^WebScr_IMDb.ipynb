{
 "cells": [
  {
   "cell_type": "markdown",
   "id": "17529973",
   "metadata": {},
   "source": [
    "# IMDb Top 1000 Movies of all time"
   ]
  },
  {
   "cell_type": "code",
   "execution_count": 50,
   "id": "41ca4f9f",
   "metadata": {},
   "outputs": [],
   "source": [
    "# Importing required libraries\n",
    "import pandas as pd\n",
    "import numpy as np\n",
    "import requests \n",
    "import re\n",
    "from bs4 import BeautifulSoup as bs"
   ]
  },
  {
   "cell_type": "code",
   "execution_count": 51,
   "id": "40af07fc",
   "metadata": {},
   "outputs": [
    {
     "data": {
      "text/plain": [
       "'         IMDb \"Top 1000\" (Sorted by IMDb Rating Descending) - IMDb                                                                   MenuMoviesRelease CalendarDVD & Blu-ray ReleasesTop 250 MoviesMost Popular MoviesBrowse Movies by GenreTop Box OfficeShowtimes & TicketsIn TheatersComing SoonMovie NewsIndia Movie SpotlightTV ShowsWhat\\'s on TV & StreamingTop 250 TV ShowsMost Popular TV ShowsBrowse TV Shows by GenreTV NewsIndia TV SpotlightWatchWhat to WatchLatest TrailersIMDb OriginalsIMDb PicksIMDb PodcastsAwards & EventsOscarsBest Picture WinnersBest Picture WinnersEmmysSTARmeter AwardsSan Diego Comic-ConNew York Comic-ConSundance Film FestivalToronto Int\\'l Film FestivalAwards CentralFestival CentralAll EventsCelebsBorn TodayMost Popular CelebsMost Popular CelebsCelebrity NewsCommunityHelp CenterContributor ZonePollsFor Industry ProfessionalsAllAllTitlesTV EpisodesCelebsCompaniesKeywordsAdvanced SearchWatchlistSign InENFully supportedEnglish (United States)Partially supportedFrançais (Canada)Français (France)Deutsch (Deutschland)हिंदी (भारत)Italiano (Italia)Português (Brasil)Español (España)Español (México)                    IMDb \"Top 1000\" (Sorted by IMDb Rating Descending)             View Mode:  Compact  | Detailed    1-100 of 1,000 titles. | Next »            Sort by:            Popularity | A-Z | User Rating▼ | Number of Votes | US Box Office | Runtime | Year | Release Date | Date of Your Rating | Your Rating                1. Jai Bhim (2021)   A | 164 min |  Crime, Drama, Mystery                 9.4     Rate this       \\xa0 \\xa0  1 2 3 4 5 6 7 8 9 10  9.4/10 X \\xa0     When a tribal man is arrested for a case of alleged theft, his wife turns to a human-rights lawyer to help bring justice.      Director: T.J. Gnanavel |      Stars: Suriya,  Lijo Mol Jose,  Manikandan K.,  Rajisha Vijayan   Votes: 184,349               2. Soorarai Pottru (2020)   U | 153 min |  Drama                 9.3     Rate this       \\xa0 \\xa0  1 2 3 4 5 6 7 8 9 10  9.3/10 X \\xa0     Nedumaaran Rajangam \"Maara\" sets out to make the common man fly and in the process takes on the world\\'s most capital intensive industry and several enemies who stand in his way.      Director: Sudha Kongara |      Stars: Suriya,  Prakash Belawadi,  Paresh Rawal,  Gaurav Pareek   Votes: 109,084               3. The Shawshank Redemption (1994)   A | 142 min |  Drama                 9.3     Rate this       \\xa0 \\xa0  1 2 3 4 5 6 7 8 9 10  9.3/10 X \\xa0    81                 Metascore                Two imprisoned men bond over a number of years, finding solace and eventual redemption through acts of common decency.      Director: Frank Darabont |      Stars: Tim Robbins,  Morgan Freeman,  Bob Gunton,  William Sadler   Votes: 2,568,578 | Gross: $28.34M | Top 250: #1               4. The Godfather (1972)   A | 175 min |  Crime, Drama                 9.2     Rate this       \\xa0 \\xa0  1 2 3 4 5 6 7 8 9 10  9.2/10 X \\xa0    100                 Metascore                The aging patriarch of an organized crime dynasty in postwar New York City transfers control of his clandestine empire to his reluctant youngest son.      Director: Francis Ford Coppola |      Stars: Marlon Brando,  Al Pacino,  James Caan,  Diane Keaton   Votes: 1,768,337 | Gross: $134.97M | Top 250: #2               5. The Dark Knight (2008)   UA | 152 min |  Action, Crime, Drama                 9.1     Rate this       \\xa0 \\xa0  1 2 3 4 5 6 7 8 9 10  9.1/10 X \\xa0    84                 Metascore                When the menace known as the Joker wreaks havoc and chaos on the people of Gotham, Batman must accept one of the greatest psychological and physical tests of his ability to fight injustice.      Director: Christopher Nolan |      Stars: Christian Bale,  Heath Ledger,  Aaron Eckhart,  Michael Caine   Votes: 2,533,318 | Gross: $534.86M | Top 250: #3               6. The Lord of the Rings: The Return of the King (2003)   U | 201 min |  Action, Adventure, Drama                 9.0     Rate this       \\xa0 \\xa0  1 2 3 4 5 6 7 8 9 10  9/10 X \\xa0    94                 Metascore                Gandalf and Aragorn lead the World of Men against Sauron\\'s army to draw his gaze from Frodo and Sam as they approach Mount Doom with the One Ring.      Director: Peter Jackson |      Stars: Elijah Wood,  Viggo Mortensen,  Ian McKellen,  Orlando Bloom   Votes: 1,767,120 | Gross: $377.85M | Top 250: #7               7. Schindler\\'s List (1993)   A | 195 min |  Biography, Drama, History                 9.0     Rate this       \\xa0 \\xa0  1 2 3 4 5 6 7 8 9 10  9/10 X \\xa0    94                 Metascore                In German-occupied Poland during World War II, industrialist Oskar Schindler gradually becomes concerned for his Jewish workforce after witnessing their persecution by the Nazis.      Director: Steven Spielberg |      Stars: Liam Neeson,  Ralph Fiennes,  Ben Kingsley,  Caroline Goodall   Votes: 1,308,756 | Gross: $96.90M | Top 250: #6               8. The Godfather: Part II (1974)   A | 202 min |  Crime, Drama                 9.0     Rate this       \\xa0 \\xa0  1 2 3 4 5 6 7 8 9 10  9/10 X \\xa0    90                 Metascore                The early life and career of Vito Corleone in 1920s New York City is portrayed, while his son, Michael, expands and tightens his grip on the family crime syndicate.      Director: Francis Ford Coppola |      Stars: Al Pacino,  Robert De Niro,  Robert Duvall,  Diane Keaton   Votes: 1,223,390 | Gross: $57.30M | Top 250: #4               9. 12 Angry Men (1957)   U | 96 min |  Crime, Drama                 9.0     Rate this       \\xa0 \\xa0  1 2 3 4 5 6 7 8 9 10  9/10 X \\xa0    96                 Metascore                The jury in a New York City murder trial is frustrated by a single member whose skeptical caution forces them to more carefully consider the evidence before jumping to a hasty verdict.      Director: Sidney Lumet |      Stars: Henry Fonda,  Lee J. Cobb,  Martin Balsam,  John Fiedler   Votes: 758,586 | Gross: $4.36M | Top 250: #5               10. Shershaah (2021)   UA | 135 min |  Action, Biography, Drama                 8.9     Rate this       \\xa0 \\xa0  1 2 3 4 5 6 7 8 9 10  8.9/10 X \\xa0     The story of PVC awardee Indian soldier Capt. Vikram Batra, who shot to fame and became a household name during the Kargil War in 1999.      Director: Vishnuvardhan |      Stars: Sidharth Malhotra,  Kiara Advani,  Shiv Panditt,  Pranay Pachauri   Votes: 115,777               11. The Lord of the Rings: The Fellowship of the Ring (2001)   U | 178 min |  Action, Adventure, Drama                 8.9     Rate this       \\xa0 \\xa0  1 2 3 4 5 6 7 8 9 10  8.9/10 X \\xa0    92                 Metascore                A meek Hobbit from the Shire and eight companions set out on a journey to destroy the powerful One Ring and save Middle-earth from the Dark Lord Sauron.      Director: Peter Jackson |      Stars: Elijah Wood,  Ian McKellen,  Orlando Bloom,  Sean Bean   Votes: 1,788,855 | Gross: $315.54M | Top 250: #9               12. Pulp Fiction (1994)   A | 154 min |  Crime, Drama                 8.9     Rate this       \\xa0 \\xa0  1 2 3 4 5 6 7 8 9 10  8.9/10 X \\xa0    94                 Metascore                The lives of two mob hitmen, a boxer, a gangster and his wife, and a pair of diner bandits intertwine in four tales of violence and redemption.      Director: Quentin Tarantino |      Stars: John Travolta,  Uma Thurman,  Samuel L. Jackson,  Bruce Willis   Votes: 1,971,768 | Gross: $107.93M | Top 250: #8               13. Inception (2010)   UA | 148 min |  Action, Adventure, Sci-Fi                 8.8     Rate this       \\xa0 \\xa0  1 2 3 4 5 6 7 8 9 10  8.8/10 X \\xa0    74                 Metascore                A thief who steals corporate secrets through the use of dream-sharing technology is given the inverse task of planting an idea into the mind of a C.E.O., but his tragic past may doom the project and his team to disaster.      Director: Christopher Nolan |      Stars: Leonardo DiCaprio,  Joseph Gordon-Levitt,  Elliot Page,  Ken Watanabe   Votes: 2,254,276 | Gross: $292.58M | Top 250: #13               14. Sardar Udham (2021)   UA 13+ | 164 min |  Biography, Crime, Drama                 8.8     Rate this       \\xa0 \\xa0  1 2 3 4 5 6 7 8 9 10  8.8/10 X \\xa0     A biopic detailing the 2 decades that Punjabi Sikh revolutionary Udham Singh spent planning the assassination of the man responsible for the Jallianwala Bagh massacre.      Director: Shoojit Sircar |      Stars: Vicky Kaushal,  Shaun Scott,  Stephen Hogan,  Amol Parashar   Votes: 38,437               15. The Lord of the Rings: The Two Towers (2002)   UA | 179 min |  Action, Adventure, Drama                 8.8     Rate this       \\xa0 \\xa0  1 2 3 4 5 6 7 8 9 10  8.8/10 X \\xa0    87                 Metascore                While Frodo and Sam edge closer to Mordor with the help of the shifty Gollum, the divided fellowship makes a stand against Sauron\\'s new ally, Saruman, and his hordes of Isengard.      Director: Peter Jackson |      Stars: Elijah Wood,  Ian McKellen,  Viggo Mortensen,  Orlando Bloom   Votes: 1,596,476 | Gross: $342.55M | Top 250: #14               16. Fight Club (1999)   A | 139 min |  Drama                 8.8     Rate this       \\xa0 \\xa0  1 2 3 4 5 6 7 8 9 10  8.8/10 X \\xa0    66                 Metascore                An insomniac office worker and a devil-may-care soap maker form an underground fight club that evolves into much more.      Director: David Fincher |      Stars: Brad Pitt,  Edward Norton,  Meat Loaf,  Zach Grenier   Votes: 2,021,143 | Gross: $37.03M | Top 250: #12               17. Forrest Gump (1994)   UA | 142 min |  Drama, Romance                 8.8     Rate this       \\xa0 \\xa0  1 2 3 4 5 6 7 8 9 10  8.8/10 X \\xa0    82                 Metascore                The presidencies of Kennedy and Johnson, the Vietnam War, the Watergate scandal and other historical events unfold from the perspective of an Alabama man with an IQ of 75, whose only desire is to be reunited with his childhood sweetheart.      Director: Robert Zemeckis |      Stars: Tom Hanks,  Robin Wright,  Gary Sinise,  Sally Field   Votes: 1,981,219 | Gross: $330.25M | Top 250: #11               18. Il buono, il brutto, il cattivo (1966)   A | 161 min |  Adventure, Western                 8.8     Rate this       \\xa0 \\xa0  1 2 3 4 5 6 7 8 9 10  8.8/10 X \\xa0    90                 Metascore                A bounty hunting scam joins two men in an uneasy alliance against a third in a race to find a fortune in gold buried in a remote cemetery.      Director: Sergio Leone |      Stars: Clint Eastwood,  Eli Wallach,  Lee Van Cleef,  Aldo Giuffrè   Votes: 738,770 | Gross: $6.10M | Top 250: #10               19. Interstellar (2014)   UA | 169 min |  Adventure, Drama, Sci-Fi                 8.7     Rate this       \\xa0 \\xa0  1 2 3 4 5 6 7 8 9 10  8.7/10 X \\xa0    74                 Metascore                A team of explorers travel through a wormhole in space in an attempt to ensure humanity\\'s survival.      Director: Christopher Nolan |      Stars: Matthew McConaughey,  Anne Hathaway,  Jessica Chastain,  Mackenzie Foy   Votes: 1,712,476 | Gross: $188.02M | Top 250: #28               20. The Matrix (1999)   A | 136 min |  Action, Sci-Fi                 8.7     Rate this       \\xa0 \\xa0  1 2 3 4 5 6 7 8 9 10  8.7/10 X \\xa0    73                 Metascore                When a beautiful stranger leads computer hacker Neo to a forbidding underworld, he discovers the shocking truth--the life he knows is the elaborate deception of an evil cyber-intelligence.      Directors: Lana Wachowski,  Lilly Wachowski |      Stars: Keanu Reeves,  Laurence Fishburne,  Carrie-Anne Moss,  Hugo Weaving   Votes: 1,848,727 | Gross: $171.48M | Top 250: #16               21. Goodfellas (1990)   A | 145 min |  Biography, Crime, Drama                 8.7     Rate this       \\xa0 \\xa0  1 2 3 4 5 6 7 8 9 10  8.7/10 X \\xa0    90                 Metascore                The story of Henry Hill and his life in the mob, covering his relationship with his wife Karen Hill and his mob partners Jimmy Conway and Tommy DeVito in the Italian-American crime syndicate.      Director: Martin Scorsese |      Stars: Robert De Niro,  Ray Liotta,  Joe Pesci,  Lorraine Bracco   Votes: 1,108,376 | Gross: $46.84M | Top 250: #17               22. The Empire Strikes Back (1980)   UA | 124 min |  Action, Adventure, Fantasy                 8.7     Rate this       \\xa0 \\xa0  1 2 3 4 5 6 7 8 9 10  8.7/10 X \\xa0    82                 Metascore                After the Rebels are brutally overpowered by the Empire on the ice planet Hoth, Luke Skywalker begins Jedi training with Yoda, while his friends are pursued across the galaxy by Darth Vader and bounty hunter Boba Fett.      Director: Irvin Kershner |      Stars: Mark Hamill,  Harrison Ford,  Carrie Fisher,  Billy Dee Williams   Votes: 1,242,751 | Gross: $290.48M | Top 250: #15               23. One Flew Over the Cuckoo\\'s Nest (1975)   A | 133 min |  Drama                 8.7     Rate this       \\xa0 \\xa0  1 2 3 4 5 6 7 8 9 10  8.7/10 X \\xa0    84                 Metascore                A criminal pleads insanity and is admitted to a mental institution, where he rebels against the oppressive nurse and rallies up the scared patients.      Director: Milos Forman |      Stars: Jack Nicholson,  Louise Fletcher,  Michael Berryman,  Peter Brocco   Votes: 978,508 | Gross: $112.00M | Top 250: #18               24. Shichinin no samurai (1954)   U | 207 min |  Action, Drama                 8.7     Rate this       \\xa0 \\xa0  1 2 3 4 5 6 7 8 9 10  8.7/10 X \\xa0    98                 Metascore                A poor village under attack by bandits recruits seven unemployed samurai to help them defend themselves.      Director: Akira Kurosawa |      Stars: Toshirô Mifune,  Takashi Shimura,  Keiko Tsushima,  Yukiko Shimazaki   Votes: 337,436 | Gross: $0.27M | Top 250: #20               25. It\\'s a Wonderful Life (1946)   PG | 130 min |  Drama, Family, Fantasy                 8.7     Rate this       \\xa0 \\xa0  1 2 3 4 5 6 7 8 9 10  8.7/10 X \\xa0    89                 Metascore                An angel is sent from Heaven to help a desperately frustrated businessman by showing him what life would have been like if he had never existed.      Director: Frank Capra |      Stars: James Stewart,  Donna Reed,  Lionel Barrymore,  Thomas Mitchell   Votes: 442,588 | Top 250: #21               26. Asuran (2019)   UA | 141 min |  Action, Drama                 8.6     Rate this       \\xa0 \\xa0  1 2 3 4 5 6 7 8 9 10  8.6/10 X \\xa0     The teenage son of a farmer from an underprivileged caste kills a rich, upper caste landlord. Will the farmer, a loving father and a pacifist by heart, be able to save his hot-blooded son is the rest of the story.      Director: Vetrimaaran |      Stars: Dhanush,  Manju Warrier,  Prakash Raj,  Pasupathy   Votes: 25,849               27. 96 (II) (2018)   U | 158 min |  Drama, Romance                 8.6     Rate this       \\xa0 \\xa0  1 2 3 4 5 6 7 8 9 10  8.6/10 X \\xa0     Two high school sweethearts meet at a reunion after 22 years and reminisce about their past.      Director: C. Prem Kumar |      Stars: Vijay Sethupathi,  Adithya Bhaskar,  Trisha Krishnan,  Gouri Kishan   Votes: 28,226               28. Drishyam 2 (2021)   13 | 152 min |  Crime, Drama, Thriller                 8.6     Rate this       \\xa0 \\xa0  1 2 3 4 5 6 7 8 9 10  8.6/10 X \\xa0     A gripping tale of an investigation and a family which is threatened by it. Will Georgekutty be able to protect his family this time?      Director: Jeethu Joseph |      Stars: Mohanlal,  Meena,  Ansiba,  Esther Anil   Votes: 34,385               29. Cidade de Deus (2002)   A | 130 min |  Crime, Drama                 8.6     Rate this       \\xa0 \\xa0  1 2 3 4 5 6 7 8 9 10  8.6/10 X \\xa0    79                 Metascore                In the slums of Rio, two kids\\' paths diverge as one struggles to become a photographer and the other a kingpin.      Directors: Fernando Meirelles,  Kátia Lund |      Stars: Alexandre Rodrigues,  Leandro Firmino,  Matheus Nachtergaele,  Phellipe Haagensen   Votes: 738,108 | Gross: $7.56M | Top 250: #24               30. The Pianist (2002)   13 | 150 min |  Biography, Drama, Music                 8.6     Rate this       \\xa0 \\xa0  1 2 3 4 5 6 7 8 9 10  8.6/10 X \\xa0    85                 Metascore                A Polish Jewish musician struggles to survive the destruction of the Warsaw ghetto of World War II.      Director: Roman Polanski |      Stars: Adrien Brody,  Thomas Kretschmann,  Frank Finlay,  Emilia Fox   Votes: 800,177 | Gross: $32.57M | Top 250: #33               31. Sen to Chihiro no kamikakushi (2001)   U | 125 min |  Animation, Adventure, Family                 8.6     Rate this       \\xa0 \\xa0  1 2 3 4 5 6 7 8 9 10  8.6/10 X \\xa0    96                 Metascore                During her family\\'s move to the suburbs, a sullen 10-year-old girl wanders into a world ruled by gods, witches, and spirits, and where humans are changed into beasts.      Director: Hayao Miyazaki |      Stars: Daveigh Chase,  Suzanne Pleshette,  Miyu Irino,  Rumi Hiiragi   Votes: 725,761 | Gross: $10.06M | Top 250: #31               32. Saving Private Ryan (1998)   A | 169 min |  Drama, War                 8.6     Rate this       \\xa0 \\xa0  1 2 3 4 5 6 7 8 9 10  8.6/10 X \\xa0    91                 Metascore                Following the Normandy Landings, a group of U.S. soldiers go behind enemy lines to retrieve a paratrooper whose brothers have been killed in action.      Director: Steven Spielberg |      Stars: Tom Hanks,  Matt Damon,  Tom Sizemore,  Edward Burns   Votes: 1,338,061 | Gross: $216.54M | Top 250: #23               33. The Green Mile (1999)   UA | 189 min |  Crime, Drama, Fantasy                 8.6     Rate this       \\xa0 \\xa0  1 2 3 4 5 6 7 8 9 10  8.6/10 X \\xa0    61                 Metascore                The lives of guards on Death Row are affected by one of their charges: a black man accused of child murder and rape, yet who has a mysterious gift.      Director: Frank Darabont |      Stars: Tom Hanks,  Michael Clarke Duncan,  David Morse,  Bonnie Hunt   Votes: 1,248,948 | Gross: $136.80M | Top 250: #26               34. La vita è bella (1997)   U | 116 min |  Comedy, Drama, Romance                 8.6     Rate this       \\xa0 \\xa0  1 2 3 4 5 6 7 8 9 10  8.6/10 X \\xa0    59                 Metascore                When an open-minded Jewish waiter and his son become victims of the Holocaust, he uses a perfect mixture of will, humor, and imagination to protect his son from the dangers around their camp.      Director: Roberto Benigni |      Stars: Roberto Benigni,  Nicoletta Braschi,  Giorgio Cantarini,  Giustino Durano   Votes: 672,869 | Gross: $57.60M | Top 250: #25               35. Se7en (1995)   A | 127 min |  Crime, Drama, Mystery                 8.6     Rate this       \\xa0 \\xa0  1 2 3 4 5 6 7 8 9 10  8.6/10 X \\xa0    65                 Metascore                Two detectives, a rookie and a veteran, hunt a serial killer who uses the seven deadly sins as his motives.      Director: David Fincher |      Stars: Morgan Freeman,  Brad Pitt,  Kevin Spacey,  Andrew Kevin Walker   Votes: 1,575,016 | Gross: $100.13M | Top 250: #19               36. Léon (1994)   A | 110 min |  Action, Crime, Drama                 8.6     Rate this       \\xa0 \\xa0  1 2 3 4 5 6 7 8 9 10  8.6/10 X \\xa0    64                 Metascore                12-year-old Mathilda is reluctantly taken in by Léon, a professional assassin, after her family is murdered. An unusual relationship forms as she becomes his protégée and learns the assassin\\'s trade.      Director: Luc Besson |      Stars: Jean Reno,  Gary Oldman,  Natalie Portman,  Danny Aiello   Votes: 1,119,788 | Gross: $19.50M | Top 250: #34               37. Terminator 2: Judgment Day (1991)   A | 137 min |  Action, Sci-Fi                 8.6     Rate this       \\xa0 \\xa0  1 2 3 4 5 6 7 8 9 10  8.6/10 X \\xa0    75                 Metascore                A cyborg, identical to the one who failed to kill Sarah Connor, must now protect her ten-year-old son John from a more advanced and powerful cyborg.      Director: James Cameron |      Stars: Arnold Schwarzenegger,  Linda Hamilton,  Edward Furlong,  Robert Patrick   Votes: 1,062,607 | Gross: $204.84M | Top 250: #29               38. The Silence of the Lambs (1991)   A | 118 min |  Crime, Drama, Thriller                 8.6     Rate this       \\xa0 \\xa0  1 2 3 4 5 6 7 8 9 10  8.6/10 X \\xa0    85                 Metascore                A young F.B.I. cadet must receive the help of an incarcerated and manipulative cannibal killer to help catch another serial killer, a madman who skins his victims.      Director: Jonathan Demme |      Stars: Jodie Foster,  Anthony Hopkins,  Lawrence A. Bonney,  Kasi Lemmons   Votes: 1,377,196 | Gross: $130.74M | Top 250: #22               39. Back to the Future (1985)   U | 116 min |  Adventure, Comedy, Sci-Fi                 8.6     Rate this       \\xa0 \\xa0  1 2 3 4 5 6 7 8 9 10  8.6/10 X \\xa0    87                 Metascore                Marty McFly, a 17-year-old high school student, is accidentally sent thirty years into the past in a time-traveling DeLorean invented by his close friend, the eccentric scientist Doc Brown.      Director: Robert Zemeckis |      Stars: Michael J. Fox,  Christopher Lloyd,  Lea Thompson,  Crispin Glover   Votes: 1,152,964 | Gross: $210.61M | Top 250: #30               40. Star Wars (1977)   UA | 121 min |  Action, Adventure, Fantasy                 8.6     Rate this       \\xa0 \\xa0  1 2 3 4 5 6 7 8 9 10  8.6/10 X \\xa0    90                 Metascore                Luke Skywalker joins forces with a Jedi Knight, a cocky pilot, a Wookiee and two droids to save the galaxy from the Empire\\'s world-destroying battle station, while also attempting to rescue Princess Leia from the mysterious Darth Vader.      Director: George Lucas |      Stars: Mark Hamill,  Harrison Ford,  Carrie Fisher,  Alec Guinness   Votes: 1,314,255 | Gross: $322.74M | Top 250: #27               41. Seppuku (1962)   133 min |  Action, Drama, Mystery                 8.6     Rate this       \\xa0 \\xa0  1 2 3 4 5 6 7 8 9 10  8.6/10 X \\xa0    85                 Metascore                When a ronin requesting seppuku at a feudal lord\\'s palace is told of the brutal suicide of another ronin who previously visited, he reveals how their pasts are intertwined - and in doing so challenges the clan\\'s integrity.      Director: Masaki Kobayashi |      Stars: Tatsuya Nakadai,  Akira Ishihama,  Shima Iwashita,  Tetsurô Tanba   Votes: 53,158 | Top 250: #47               42. Chhichhore (2019)   UA | 143 min |  Comedy, Drama, Romance                 8.5     Rate this       \\xa0 \\xa0  1 2 3 4 5 6 7 8 9 10  8.5/10 X \\xa0     A tragic incident forces Anirudh, a middle-aged man, to take a trip down memory lane and reminisce his college days along with his friends, who were labelled as losers.      Director: Nitesh Tiwari |      Stars: Sushant Singh Rajput,  Shraddha Kapoor,  Varun Sharma,  Prateik Babbar   Votes: 49,153 | Gross: $0.90M               43. K.G.F: Chapter 1 (2018)   UA | 156 min |  Action, Crime, Drama                 8.5     Rate this       \\xa0 \\xa0  1 2 3 4 5 6 7 8 9 10  8.5/10 X \\xa0     In the 1970s, a gangster goes undercover as a slave to assassinate the owner of a notorious gold mine.      Directors: Prashanth Neel,  Jocky |      Stars: Yash,  Srinidhi Shetty,  Ramachandra Raju,  Archana Jois   Votes: 59,638               44. Gisaengchung (2019)   A | 132 min |  Comedy, Drama, Thriller                 8.5     Rate this       \\xa0 \\xa0  1 2 3 4 5 6 7 8 9 10  8.5/10 X \\xa0    96                 Metascore                Greed and class discrimination threaten the newly formed symbiotic relationship between the wealthy Park family and the destitute Kim clan.      Director: Bong Joon Ho |      Stars: Kang-ho Song,  Sun-kyun Lee,  Yeo-jeong Cho,  Choi Woo-sik   Votes: 731,187 | Gross: $53.37M | Top 250: #35               45. Ayla: The Daughter of War (2017)   125 min |  Biography, Drama, History                 8.5     Rate this       \\xa0 \\xa0  1 2 3 4 5 6 7 8 9 10  8.5/10 X \\xa0     In 1950, amid-st the ravages of the Korean War, Sergeant Süleyman stumbles upon a half-frozen little girl, with no parents and no help in sight. Frantic, scared and on the verge of death, ...                See full summary\\xa0»       Directors: Can Ulkay,  Halenur Uzunoglu |      Stars: Çetin Tekindor,  Ismail Hacioglu,  Kyung-jin Lee,  Kim Seol   Votes: 38,648               46. Avengers: Infinity War (2018)   UA | 149 min |  Action, Adventure, Sci-Fi                 8.5     Rate this       \\xa0 \\xa0  1 2 3 4 5 6 7 8 9 10  8.5/10 X \\xa0    68                 Metascore                The Avengers and their allies must be willing to sacrifice all in an attempt to defeat the powerful Thanos before his blitz of devastation and ruin puts an end to the universe.      Directors: Anthony Russo,  Joe Russo |      Stars: Robert Downey Jr.,  Chris Hemsworth,  Mark Ruffalo,  Chris Evans   Votes: 998,709 | Gross: $678.82M | Top 250: #63               47. Whiplash (2014)   A | 106 min |  Drama, Music                 8.5     Rate this       \\xa0 \\xa0  1 2 3 4 5 6 7 8 9 10  8.5/10 X \\xa0    88                 Metascore                A promising young drummer enrolls at a cut-throat music conservatory where his dreams of greatness are mentored by an instructor who will stop at nothing to realize a student\\'s potential.      Director: Damien Chazelle |      Stars: Miles Teller,  J.K. Simmons,  Melissa Benoist,  Paul Reiser   Votes: 800,910 | Gross: $13.09M | Top 250: #43               48. Django Unchained (2012)   A | 165 min |  Drama, Western                 8.5     Rate this       \\xa0 \\xa0  1 2 3 4 5 6 7 8 9 10  8.5/10 X \\xa0    81                 Metascore                With the help of a German bounty-hunter, a freed slave sets out to rescue his wife from a brutal plantation-owner in Mississippi.      Director: Quentin Tarantino |      Stars: Jamie Foxx,  Christoph Waltz,  Leonardo DiCaprio,  Kerry Washington   Votes: 1,484,258 | Gross: $162.81M | Top 250: #56               49. The Intouchables (2011)   UA | 112 min |  Biography, Comedy, Drama                 8.5     Rate this       \\xa0 \\xa0  1 2 3 4 5 6 7 8 9 10  8.5/10 X \\xa0    57                 Metascore                After he becomes a quadriplegic from a paragliding accident, an aristocrat hires a young man from the projects to be his caregiver.      Directors: Olivier Nakache,  Éric Toledano |      Stars: François Cluzet,  Omar Sy,  Anne Le Ny,  Audrey Fleurot   Votes: 826,242 | Gross: $13.18M | Top 250: #44               50. 3 Idiots (2009)   UA | 170 min |  Comedy, Drama                 8.5     Rate this       \\xa0 \\xa0  1 2 3 4 5 6 7 8 9 10  8.5/10 X \\xa0    67                 Metascore                Two friends are searching for their long lost companion. They revisit their college days and recall the memories of their friend who inspired them to think differently, even as the rest of the world called them \"idiots\".      Director: Rajkumar Hirani |      Stars: Aamir Khan,  Madhavan,  Mona Singh,  Sharman Joshi   Votes: 382,909 | Gross: $6.53M | Top 250: #85               51. Spider-Man: No Way Home (2021)   UA | 148 min |  Action, Adventure, Fantasy                 8.5     Rate this       \\xa0 \\xa0  1 2 3 4 5 6 7 8 9 10  8.5/10 X \\xa0    71                 Metascore                With Spider-Man\\'s identity now revealed, Peter asks Doctor Strange for help. When a spell goes wrong, dangerous foes from other worlds start to appear, forcing Peter to discover what it truly means to be Spider-Man.      Director: Jon Watts |      Stars: Tom Holland,  Zendaya,  Benedict Cumberbatch,  Jacob Batalon   Votes: 567,231 | Top 250: #76               52. The Prestige (2006)   U | 130 min |  Drama, Mystery, Thriller                 8.5     Rate this       \\xa0 \\xa0  1 2 3 4 5 6 7 8 9 10  8.5/10 X \\xa0    66                 Metascore                After a tragic accident, two stage magicians in 1890s London engage in a battle to create the ultimate illusion while sacrificing everything they have to outwit each other.      Director: Christopher Nolan |      Stars: Christian Bale,  Hugh Jackman,  Scarlett Johansson,  Michael Caine   Votes: 1,286,499 | Gross: $53.09M | Top 250: #41               53. The Departed (2006)   A | 151 min |  Crime, Drama, Thriller                 8.5     Rate this       \\xa0 \\xa0  1 2 3 4 5 6 7 8 9 10  8.5/10 X \\xa0    85                 Metascore                An undercover cop and a mole in the police attempt to identify each other while infiltrating an Irish gang in South Boston.      Director: Martin Scorsese |      Stars: Leonardo DiCaprio,  Matt Damon,  Jack Nicholson,  Mark Wahlberg   Votes: 1,278,609 | Gross: $132.38M | Top 250: #40               54. Memento (2000)   UA | 113 min |  Mystery, Thriller                 8.5     Rate this       \\xa0 \\xa0  1 2 3 4 5 6 7 8 9 10  8.5/10 X \\xa0    80                 Metascore                A man with short-term memory loss attempts to track down his wife\\'s murderer.      Director: Christopher Nolan |      Stars: Guy Pearce,  Carrie-Anne Moss,  Joe Pantoliano,  Mark Boone Junior   Votes: 1,201,415 | Gross: $25.54M | Top 250: #52               55. Gladiator (2000)   UA | 155 min |  Action, Adventure, Drama                 8.5     Rate this       \\xa0 \\xa0  1 2 3 4 5 6 7 8 9 10  8.5/10 X \\xa0    67                 Metascore                A former Roman General sets out to exact vengeance against the corrupt emperor who murdered his family and sent him into slavery.      Director: Ridley Scott |      Stars: Russell Crowe,  Joaquin Phoenix,  Connie Nielsen,  Oliver Reed   Votes: 1,445,381 | Gross: $187.71M | Top 250: #37               56. American History X (1998)   R | 119 min |  Drama                 8.5     Rate this       \\xa0 \\xa0  1 2 3 4 5 6 7 8 9 10  8.5/10 X \\xa0    62                 Metascore                A former neo-nazi skinhead tries to prevent his younger brother from going down the same wrong path that he did.      Director: Tony Kaye |      Stars: Edward Norton,  Edward Furlong,  Beverly D\\'Angelo,  Jennifer Lien   Votes: 1,091,718 | Gross: $6.72M | Top 250: #38               57. The Usual Suspects (1995)   A | 106 min |  Crime, Drama, Mystery                 8.5     Rate this       \\xa0 \\xa0  1 2 3 4 5 6 7 8 9 10  8.5/10 X \\xa0    77                 Metascore                A sole survivor tells of the twisty events leading up to a horrific gun battle on a boat, which began when five criminals met at a seemingly random police lineup.      Director: Bryan Singer |      Stars: Kevin Spacey,  Gabriel Byrne,  Chazz Palminteri,  Stephen Baldwin   Votes: 1,055,968 | Gross: $23.34M | Top 250: #39               58. The Lion King (1994)   U | 88 min |  Animation, Adventure, Drama                 8.5     Rate this       \\xa0 \\xa0  1 2 3 4 5 6 7 8 9 10  8.5/10 X \\xa0    88                 Metascore                Lion prince Simba and his father are targeted by his bitter uncle, who wants to ascend the throne himself.      Directors: Roger Allers,  Rob Minkoff |      Stars: Matthew Broderick,  Jeremy Irons,  James Earl Jones,  Whoopi Goldberg   Votes: 1,017,456 | Gross: $422.78M | Top 250: #36               59. Nuovo Cinema Paradiso (1988)   U | 155 min |  Drama, Romance                 8.5     Rate this       \\xa0 \\xa0  1 2 3 4 5 6 7 8 9 10  8.5/10 X \\xa0    80                 Metascore                A filmmaker recalls his childhood when falling in love with the pictures at the cinema of his home village and forms a deep friendship with the cinema\\'s projectionist.      Director: Giuseppe Tornatore |      Stars: Philippe Noiret,  Enzo Cannavale,  Antonella Attili,  Isa Danieli   Votes: 253,065 | Gross: $11.99M | Top 250: #53               60. Hotaru no haka (1988)   U | 89 min |  Animation, Drama, War                 8.5     Rate this       \\xa0 \\xa0  1 2 3 4 5 6 7 8 9 10  8.5/10 X \\xa0    94                 Metascore                A young boy and his little sister struggle to survive in Japan during World War II.      Director: Isao Takahata |      Stars: Tsutomu Tatsumi,  Ayano Shiraishi,  Akemi Yamaguchi,  Yoshiko Shinohara   Votes: 264,436 | Top 250: #48               61. Apocalypse Now (1979)   R | 147 min |  Drama, Mystery, War                 8.5     Rate this       \\xa0 \\xa0  1 2 3 4 5 6 7 8 9 10  8.5/10 X \\xa0    94                 Metascore                A U.S. Army officer serving in Vietnam is tasked with assassinating a renegade Special Forces Colonel who sees himself as a god.      Director: Francis Ford Coppola |      Stars: Martin Sheen,  Marlon Brando,  Robert Duvall,  Frederic Forrest   Votes: 647,425 | Gross: $83.47M | Top 250: #54               62. Alien (1979)   R | 117 min |  Horror, Sci-Fi                 8.5     Rate this       \\xa0 \\xa0  1 2 3 4 5 6 7 8 9 10  8.5/10 X \\xa0    89                 Metascore                The crew of a commercial spacecraft encounter a deadly lifeform after investigating an unknown transmission.      Director: Ridley Scott |      Stars: Sigourney Weaver,  Tom Skerritt,  John Hurt,  Veronica Cartwright   Votes: 848,607 | Gross: $78.90M | Top 250: #49               63. Once Upon a Time in the West (1968)   U | 165 min |  Western                 8.5     Rate this       \\xa0 \\xa0  1 2 3 4 5 6 7 8 9 10  8.5/10 X \\xa0    80                 Metascore                A mysterious stranger with a harmonica joins forces with a notorious desperado to protect a beautiful widow from a ruthless assassin working for the railroad.      Director: Sergio Leone |      Stars: Henry Fonda,  Charles Bronson,  Claudia Cardinale,  Jason Robards   Votes: 321,990 | Gross: $5.32M | Top 250: #46               64. Psycho (1960)   A | 109 min |  Horror, Mystery, Thriller                 8.5     Rate this       \\xa0 \\xa0  1 2 3 4 5 6 7 8 9 10  8.5/10 X \\xa0    97                 Metascore                A Phoenix secretary embezzles $40,000 from her employer\\'s client, goes on the run, and checks into a remote motel run by a young man under the domination of his mother.      Director: Alfred Hitchcock |      Stars: Anthony Perkins,  Janet Leigh,  Vera Miles,  John Gavin   Votes: 649,788 | Gross: $32.00M | Top 250: #32               65. Rear Window (1954)   U | 112 min |  Mystery, Thriller                 8.5     Rate this       \\xa0 \\xa0  1 2 3 4 5 6 7 8 9 10  8.5/10 X \\xa0    100                 Metascore                A wheelchair-bound photographer spies on his neighbors from his Greenwich Village courtyard apartment window, and becomes convinced one of them has committed murder, despite the skepticism of his fashion-model girlfriend.      Director: Alfred Hitchcock |      Stars: James Stewart,  Grace Kelly,  Wendell Corey,  Thelma Ritter   Votes: 478,250 | Gross: $36.76M | Top 250: #50               66. Casablanca (1942)   U | 102 min |  Drama, Romance, War                 8.5     Rate this       \\xa0 \\xa0  1 2 3 4 5 6 7 8 9 10  8.5/10 X \\xa0    100                 Metascore                A cynical expatriate American cafe owner struggles to decide whether or not to help his former lover and her fugitive husband escape the Nazis in French Morocco.      Director: Michael Curtiz |      Stars: Humphrey Bogart,  Ingrid Bergman,  Paul Henreid,  Claude Rains   Votes: 556,942 | Gross: $1.02M | Top 250: #42               67. Modern Times (1936)   87 min |  Comedy, Drama, Romance                 8.5     Rate this       \\xa0 \\xa0  1 2 3 4 5 6 7 8 9 10  8.5/10 X \\xa0    96                 Metascore                The Tramp struggles to live in modern industrial society with the help of a young homeless woman.      Director: Charles Chaplin |      Stars: Charles Chaplin,  Paulette Goddard,  Henry Bergman,  Tiny Sandford   Votes: 235,967 | Gross: $0.16M | Top 250: #45               68. City Lights (1931)   G | 87 min |  Comedy, Drama, Romance                 8.5     Rate this       \\xa0 \\xa0  1 2 3 4 5 6 7 8 9 10  8.5/10 X \\xa0    99                 Metascore                With the aid of a wealthy erratic tippler, a dewy-eyed tramp who has fallen in love with a sightless flower girl accumulates money to be able to help her medically.      Director: Charles Chaplin |      Stars: Charles Chaplin,  Virginia Cherrill,  Florence Lee,  Harry Myers   Votes: 180,730 | Gross: $0.02M | Top 250: #51               69. Hamilton (2020)   12+ | 160 min |  Biography, Drama, History                 8.4     Rate this       \\xa0 \\xa0  1 2 3 4 5 6 7 8 9 10  8.4/10 X \\xa0    90                 Metascore                The real life of one of America\\'s foremost founding fathers and first Secretary of the Treasury, Alexander Hamilton. Captured live on Broadway from the Richard Rodgers Theater with the original Broadway cast.      Director: Thomas Kail |      Stars: Lin-Manuel Miranda,  Phillipa Soo,  Leslie Odom Jr.,  Renée Elise Goldsberry   Votes: 85,142 | Top 250: #112               70. Uri: The Surgical Strike (2019)   UA | 138 min |  Action, Drama, History                 8.4     Rate this       \\xa0 \\xa0  1 2 3 4 5 6 7 8 9 10  8.4/10 X \\xa0     Indian army special forces execute a covert operation, avenging the killing of fellow army men at their base by a terrorist group.      Director: Aditya Dhar |      Stars: Vicky Kaushal,  Paresh Rawal,  Mohit Raina,  Yami Gautam   Votes: 57,824 | Gross: $4.19M               71. Capharnaüm (2018)   A | 126 min |  Drama                 8.4     Rate this       \\xa0 \\xa0  1 2 3 4 5 6 7 8 9 10  8.4/10 X \\xa0    75                 Metascore                While serving a five-year sentence for a violent crime, a 12-year-old boy sues his parents for neglect.      Director: Nadine Labaki |      Stars: Zain Al Rafeea,  Yordanos Shiferaw,  Boluwatife Treasure Bankole,  Kawsar Al Haddad   Votes: 83,470 | Gross: $1.66M | Top 250: #95               72. Joker (I) (2019)   A | 122 min |  Crime, Drama, Thriller                 8.4     Rate this       \\xa0 \\xa0  1 2 3 4 5 6 7 8 9 10  8.4/10 X \\xa0    59                 Metascore                A mentally troubled stand-up comedian embarks on a downward spiral that leads to the creation of an iconic villain.      Director: Todd Phillips |      Stars: Joaquin Phoenix,  Robert De Niro,  Zazie Beetz,  Frances Conroy   Votes: 1,171,425 | Gross: $335.45M | Top 250: #70               73. Ratsasan (2018)   UA | 170 min |  Crime, Drama, Mystery                 8.4     Rate this       \\xa0 \\xa0  1 2 3 4 5 6 7 8 9 10  8.4/10 X \\xa0     A sub-inspector sets out in pursuit of a mysterious serial killer who targets teen school girls and murders them brutally.      Director: Ram Kumar |      Stars: Vishnu Vishal,  Amala Paul,  Radha Ravi,  Sangili Murugan   Votes: 38,649               74. Vikram Vedha (2017)   UA | 147 min |  Action, Crime, Drama                 8.4     Rate this       \\xa0 \\xa0  1 2 3 4 5 6 7 8 9 10  8.4/10 X \\xa0     Vikram, a no-nonsense police officer, accompanied by Simon, his partner, is on the hunt to capture Vedha, a smuggler and a murderer. Vedha tries to change Vikram\\'s life, which leads to a conflict.      Directors: Gayatri,  Pushkar |      Stars: Madhavan,  Vijay Sethupathi,  Shraddha Srinath,  Kathir   Votes: 36,496               75. Kimi no na wa. (2016)   U | 106 min |  Animation, Drama, Fantasy                 8.4     Rate this       \\xa0 \\xa0  1 2 3 4 5 6 7 8 9 10  8.4/10 X \\xa0    79                 Metascore                Two strangers find themselves linked in a bizarre way. When a connection forms, will distance be the only thing to keep them apart?      Director: Makoto Shinkai |      Stars: Ryûnosuke Kamiki,  Mone Kamishiraishi,  Ryô Narita,  Aoi Yûki   Votes: 246,061 | Gross: $5.02M | Top 250: #86               76. Dangal (2016)   U | 161 min |  Action, Biography, Drama                 8.4     Rate this       \\xa0 \\xa0  1 2 3 4 5 6 7 8 9 10  8.4/10 X \\xa0     Former wrestler Mahavir Singh Phogat and his two wrestler daughters struggle towards glory at the Commonwealth Games in the face of societal oppression.      Director: Nitesh Tiwari |      Stars: Aamir Khan,  Sakshi Tanwar,  Fatima Sana Shaikh,  Sanya Malhotra   Votes: 180,724 | Gross: $12.39M | Top 250: #126               77. Spider-Man: Into the Spider-Verse (2018)   U | 117 min |  Animation, Action, Adventure                 8.4     Rate this       \\xa0 \\xa0  1 2 3 4 5 6 7 8 9 10  8.4/10 X \\xa0    87                 Metascore                Teen Miles Morales becomes the Spider-Man of his universe, and must join with five spider-powered individuals from other dimensions to stop a threat for all realities.      Directors: Bob Persichetti,  Peter Ramsey,  Rodney Rothman |      Stars: Shameik Moore,  Jake Johnson,  Hailee Steinfeld,  Mahershala Ali   Votes: 481,060 | Gross: $190.24M | Top 250: #69               78. Avengers: Endgame (2019)   UA | 181 min |  Action, Adventure, Drama                 8.4     Rate this       \\xa0 \\xa0  1 2 3 4 5 6 7 8 9 10  8.4/10 X \\xa0    78                 Metascore                After the devastating events of Avengers: Infinity War (2018), the universe is in ruins. With the help of remaining allies, the Avengers assemble once more in order to reverse Thanos\\' actions and restore balance to the universe.      Directors: Anthony Russo,  Joe Russo |      Stars: Robert Downey Jr.,  Chris Evans,  Mark Ruffalo,  Chris Hemsworth   Votes: 1,033,628 | Gross: $858.37M | Top 250: #79               79. Coco (I) (2017)   U | 105 min |  Animation, Adventure, Comedy                 8.4     Rate this       \\xa0 \\xa0  1 2 3 4 5 6 7 8 9 10  8.4/10 X \\xa0    81                 Metascore                Aspiring musician Miguel, confronted with his family\\'s ancestral ban on music, enters the Land of the Dead to find his great-great-grandfather, a legendary singer.      Directors: Lee Unkrich,  Adrian Molina |      Stars: Anthony Gonzalez,  Gael García Bernal,  Benjamin Bratt,  Alanna Ubach   Votes: 470,613 | Gross: $209.73M | Top 250: #75               80. The Dark Knight Rises (2012)   UA | 164 min |  Action, Crime, Drama                 8.4     Rate this       \\xa0 \\xa0  1 2 3 4 5 6 7 8 9 10  8.4/10 X \\xa0    78                 Metascore                Eight years after the Joker\\'s reign of anarchy, Batman, with the help of the enigmatic Catwoman, is forced from his exile to save Gotham City from the brutal guerrilla terrorist Bane.      Director: Christopher Nolan |      Stars: Christian Bale,  Tom Hardy,  Anne Hathaway,  Gary Oldman   Votes: 1,640,105 | Gross: $448.14M | Top 250: #67               81. Taare Zameen Par (2007)   U | 165 min |  Drama, Family                 8.4     Rate this       \\xa0 \\xa0  1 2 3 4 5 6 7 8 9 10  8.4/10 X \\xa0     An eight-year-old boy is thought to be a lazy trouble-maker, until the new art teacher has the patience and compassion to discover the real problem behind his struggles in school.      Directors: Aamir Khan,  Amole Gupte |      Stars: Darsheel Safary,  Aamir Khan,  Tisca Chopra,  Vipin Sharma   Votes: 187,325 | Gross: $1.22M | Top 250: #123               82. WALL·E (2008)   U | 98 min |  Animation, Adventure, Family                 8.4     Rate this       \\xa0 \\xa0  1 2 3 4 5 6 7 8 9 10  8.4/10 X \\xa0    95                 Metascore                In the distant future, a small waste-collecting robot inadvertently embarks on a space journey that will ultimately decide the fate of mankind.      Director: Andrew Stanton |      Stars: Ben Burtt,  Elissa Knight,  Jeff Garlin,  Fred Willard   Votes: 1,077,238 | Gross: $223.81M | Top 250: #57               83. The Lives of Others (2006)   A | 137 min |  Drama, Mystery, Thriller                 8.4     Rate this       \\xa0 \\xa0  1 2 3 4 5 6 7 8 9 10  8.4/10 X \\xa0    89                 Metascore                In 1984 East Berlin, an agent of the secret police, conducting surveillance on a writer and his lover, finds himself becoming increasingly absorbed by their lives.      Director: Florian Henckel von Donnersmarck |      Stars: Ulrich Mühe,  Martina Gedeck,  Sebastian Koch,  Ulrich Tukur   Votes: 381,602 | Gross: $11.29M | Top 250: #58               84. Oldeuboi (2003)   A | 101 min |  Action, Drama, Mystery                 8.4     Rate this       \\xa0 \\xa0  1 2 3 4 5 6 7 8 9 10  8.4/10 X \\xa0    77                 Metascore                After being kidnapped and imprisoned for fifteen years, Oh Dae-Su is released, only to find that he must find his captor in five days.      Director: Park Chan-wook |      Stars: Choi Min-sik,  Yoo Ji-Tae,  Kang Hye-jeong,  Kim Byeong-Ok   Votes: 558,542 | Gross: $0.71M | Top 250: #71               85. American Beauty (1999)   UA | 122 min |  Drama                 8.4     Rate this       \\xa0 \\xa0  1 2 3 4 5 6 7 8 9 10  8.4/10 X \\xa0    84                 Metascore                A sexually frustrated suburban father has a mid-life crisis after becoming infatuated with his daughter\\'s best friend.      Director: Sam Mendes |      Stars: Kevin Spacey,  Annette Bening,  Thora Birch,  Wes Bentley   Votes: 1,127,638 | Gross: $130.10M | Top 250: #66               86. Mononoke-hime (1997)   U | 134 min |  Animation, Action, Adventure                 8.4     Rate this       \\xa0 \\xa0  1 2 3 4 5 6 7 8 9 10  8.4/10 X \\xa0    76                 Metascore                On a journey to find the cure for a Tatarigami\\'s curse, Ashitaka finds himself in the middle of a war between the forest gods and Tatara, a mining colony. In this quest he also meets San, the Mononoke Hime.      Director: Hayao Miyazaki |      Stars: Yôji Matsuda,  Yuriko Ishida,  Yûko Tanaka,  Billy Crudup   Votes: 379,198 | Gross: $2.38M | Top 250: #80               87. Braveheart (1995)   A | 178 min |  Biography, Drama, History                 8.4     Rate this       \\xa0 \\xa0  1 2 3 4 5 6 7 8 9 10  8.4/10 X \\xa0    68                 Metascore                Scottish warrior William Wallace leads his countrymen in a rebellion to free his homeland from the tyranny of King Edward I of England.      Director: Mel Gibson |      Stars: Mel Gibson,  Sophie Marceau,  Patrick McGoohan,  Angus Macfadyen   Votes: 1,012,500 | Gross: $75.60M | Top 250: #72               88. Idi i smotri (1985)   A | 142 min |  Drama, Thriller, War                 8.4     Rate this       \\xa0 \\xa0  1 2 3 4 5 6 7 8 9 10  8.4/10 X \\xa0     After finding an old rifle, a young boy joins the Soviet resistance movement against ruthless German forces and experiences the horrors of World War II.      Director: Elem Klimov |      Stars: Aleksey Kravchenko,  Olga Mironova,  Liubomiras Laucevicius,  Vladas Bagdonas   Votes: 73,764 | Top 250: #104               89. Aliens (1986)   U | 137 min |  Action, Adventure, Sci-Fi                 8.4     Rate this       \\xa0 \\xa0  1 2 3 4 5 6 7 8 9 10  8.4/10 X \\xa0    84                 Metascore                Fifty-seven years after surviving an apocalyptic attack aboard her space vessel by merciless space creatures, Officer Ripley awakens from hyper-sleep and tries to warn anyone who will listen about the predators.      Director: James Cameron |      Stars: Sigourney Weaver,  Michael Biehn,  Carrie Henn,  Paul Reiser   Votes: 696,197 | Gross: $85.16M | Top 250: #65               90. Once Upon a Time in America (1984)   A | 229 min |  Crime, Drama                 8.4     Rate this       \\xa0 \\xa0  1 2 3 4 5 6 7 8 9 10  8.4/10 X \\xa0    75                 Metascore                A former Prohibition-era Jewish gangster returns to the Lower East Side of Manhattan 35 years later, where he must once again confront the ghosts and regrets of his old life.      Director: Sergio Leone |      Stars: Robert De Niro,  James Woods,  Elizabeth McGovern,  Treat Williams   Votes: 340,766 | Gross: $5.32M | Top 250: #81               91. Amadeus (1984)   R | 160 min |  Biography, Drama, Music                 8.4     Rate this       \\xa0 \\xa0  1 2 3 4 5 6 7 8 9 10  8.4/10 X \\xa0    88                 Metascore                The life, success and troubles of Wolfgang Amadeus Mozart, as told by Antonio Salieri, the contemporaneous composer who was insanely jealous of Mozart\\'s talent and claimed to have murdered him.      Director: Milos Forman |      Stars: F. Murray Abraham,  Tom Hulce,  Elizabeth Berridge,  Roy Dotrice   Votes: 391,768 | Gross: $51.97M | Top 250: #74               92. Raiders of the Lost Ark (1981)   A | 115 min |  Action, Adventure                 8.4     Rate this       \\xa0 \\xa0  1 2 3 4 5 6 7 8 9 10  8.4/10 X \\xa0    85                 Metascore                In 1936, archaeologist and adventurer Indiana Jones is hired by the U.S. government to find the Ark of the Covenant before Adolf Hitler\\'s Nazis can obtain its awesome powers.      Director: Steven Spielberg |      Stars: Harrison Ford,  Karen Allen,  Paul Freeman,  John Rhys-Davies   Votes: 939,286 | Gross: $248.16M | Top 250: #55               93. Das Boot (1981)   R | 149 min |  Drama, War                 8.4     Rate this       \\xa0 \\xa0  1 2 3 4 5 6 7 8 9 10  8.4/10 X \\xa0    86                 Metascore                The claustrophobic world of a WWII German U-boat; boredom, filth and sheer terror.      Director: Wolfgang Petersen |      Stars: Jürgen Prochnow,  Herbert Grönemeyer,  Klaus Wennemann,  Hubertus Bengsch   Votes: 246,081 | Gross: $11.49M | Top 250: #78               94. The Shining (1980)   A | 146 min |  Drama, Horror                 8.4     Rate this       \\xa0 \\xa0  1 2 3 4 5 6 7 8 9 10  8.4/10 X \\xa0    66                 Metascore                A family heads to an isolated hotel for the winter where a sinister presence influences the father into violence, while his psychic son sees horrific forebodings from both past and future.      Director: Stanley Kubrick |      Stars: Jack Nicholson,  Shelley Duvall,  Danny Lloyd,  Scatman Crothers   Votes: 978,587 | Gross: $44.02M | Top 250: #60               95. Tengoku to jigoku (1963)   143 min |  Crime, Drama, Mystery                 8.4     Rate this       \\xa0 \\xa0  1 2 3 4 5 6 7 8 9 10  8.4/10 X \\xa0     An executive of a Yokohama shoe company becomes a victim of extortion when his chauffeur\\'s son is kidnapped by mistake and held for ransom.      Director: Akira Kurosawa |      Stars: Toshirô Mifune,  Yutaka Sada,  Tatsuya Nakadai,  Kyôko Kagawa   Votes: 42,255 | Top 250: #92               96. Dr. Strangelove or: How I Learned to Stop Worrying and Love the Bomb (1964)   A | 95 min |  Comedy, War                 8.4     Rate this       \\xa0 \\xa0  1 2 3 4 5 6 7 8 9 10  8.4/10 X \\xa0    97                 Metascore                An insane American general orders a bombing attack on the Soviet Union, triggering a path to nuclear holocaust that a war room full of politicians and generals frantically tries to stop.      Director: Stanley Kubrick |      Stars: Peter Sellers,  George C. Scott,  Sterling Hayden,  Keenan Wynn   Votes: 477,988 | Gross: $0.28M | Top 250: #68               97. Witness for the Prosecution (1957)   U | 116 min |  Crime, Drama, Mystery                 8.4     Rate this       \\xa0 \\xa0  1 2 3 4 5 6 7 8 9 10  8.4/10 X \\xa0     A veteran British barrister must defend his client in a murder trial that has surprise after surprise.      Director: Billy Wilder |      Stars: Tyrone Power,  Marlene Dietrich,  Charles Laughton,  Elsa Lanchester   Votes: 121,251 | Gross: $8.18M | Top 250: #64               98. Paths of Glory (1957)   A | 88 min |  Drama, War                 8.4     Rate this       \\xa0 \\xa0  1 2 3 4 5 6 7 8 9 10  8.4/10 X \\xa0    90                 Metascore                After refusing to attack an enemy position, a general accuses the soldiers of cowardice and their commanding officer must defend them.      Director: Stanley Kubrick |      Stars: Kirk Douglas,  Ralph Meeker,  Adolphe Menjou,  George Macready   Votes: 192,268 | Top 250: #61               99. Sunset Blvd. (1950)   110 min |  Drama, Film-Noir                 8.4     Rate this       \\xa0 \\xa0  1 2 3 4 5 6 7 8 9 10  8.4/10 X \\xa0     A screenwriter develops a dangerous relationship with a faded film star determined to make a triumphant return.      Director: Billy Wilder |      Stars: William Holden,  Gloria Swanson,  Erich von Stroheim,  Nancy Olson   Votes: 216,526 | Top 250: #59               100. The Great Dictator (1940)   125 min |  Comedy, Drama, War                 8.4     Rate this       \\xa0 \\xa0  1 2 3 4 5 6 7 8 9 10  8.4/10 X \\xa0     Dictator Adenoid Hynkel tries to expand his empire while a poor Jewish barber tries to avoid persecution from Hynkel\\'s regime.      Director: Charles Chaplin |      Stars: Charles Chaplin,  Paulette Goddard,  Jack Oakie,  Reginald Gardiner   Votes: 219,093 | Gross: $0.29M | Top 250: #62        1-100 of 1,000 titles. | Next »               Clear your history  Recently Viewed  \\xa0         Get the IMDb AppGet the IMDb AppView Full SiteHelpSite IndexIMDbProBox Office MojoIMDb DeveloperPress RoomAdvertisingJobsConditions of UsePrivacy PolicyInterest-Based Ads© 1990-2022 by IMDb.com, Inc.                           '"
      ]
     },
     "execution_count": 51,
     "metadata": {},
     "output_type": "execute_result"
    }
   ],
   "source": [
    "# Assigning the URL with variable name 'url'\n",
    "url = 'https://www.imdb.com/search/title/?count=100&groups=top_1000&sort=user_rating'\n",
    "r = requests.get(url)\n",
    "soup = bs(r.content, 'html.parser')\n",
    "soup.text.replace('\\n',\" \")"
   ]
  },
  {
   "cell_type": "code",
   "execution_count": 52,
   "id": "4b9ba015",
   "metadata": {},
   "outputs": [
    {
     "data": {
      "text/plain": [
       "'IMDb \"Top 1000\"(Sorted by IMDb Rating Descending) - IMDb'"
      ]
     },
     "execution_count": 52,
     "metadata": {},
     "output_type": "execute_result"
    }
   ],
   "source": [
    "# Display title of the page\n",
    "title = soup.title\n",
    "title.text.replace('\\n', '')"
   ]
  },
  {
   "cell_type": "code",
   "execution_count": 53,
   "id": "090cc786",
   "metadata": {},
   "outputs": [],
   "source": [
    "# Creating empty lists to append and store values\n",
    "rank = []\n",
    "movie_name = []\n",
    "year = []\n",
    "duration = []\n",
    "rating = []\n",
    "metascore = []\n",
    "votes= []\n",
    "gross = []\n",
    "description = []"
   ]
  },
  {
   "cell_type": "code",
   "execution_count": 54,
   "id": "be24cb13",
   "metadata": {},
   "outputs": [],
   "source": [
    "# choosing the pertinent HTML tag for data parsing\n",
    "movie_data = soup.findAll('div', attrs={'class':'lister-item mode-advanced'})"
   ]
  },
  {
   "cell_type": "code",
   "execution_count": 55,
   "id": "98c312d5",
   "metadata": {},
   "outputs": [],
   "source": [
    "# accessing required items sequentially using for loop\n",
    "for stored in movie_data:\n",
    "    index = stored.h3.find('span', class_=\"lister-item-index unbold text-primary\").text.replace('[]',\" \").strip('.')\n",
    "    rank.append(index)\n",
    "\n",
    "    name = stored.h3.a.text\n",
    "    movie_name.append(name)\n",
    "# movie_name         # Shows the entire 100 movie titles\n",
    "    Release_year = stored.h3.find('span', class_='lister-item-year text-muted unbold').text.replace('()',' ')\n",
    "    year.append(Release_year)\n",
    "# year              # Shows year of release of movies\n",
    "    Run_time = stored.p.find('span', class_='runtime').text.strip('min')\n",
    "    duration.append(Run_time)\n",
    "# duration          # Shows the duration of movies \n",
    "    rate = stored.find('div', class_='inline-block ratings-imdb-rating').text.replace('\\n','')\n",
    "    rating.append(rate)\n",
    "# rating             # Shows the rating of movies \n",
    "    meta = stored.find('span', class_='metascore')\n",
    "    metascore.append(meta) \n",
    "# metascore\n",
    "#since votes and gross have same attributes, we create a common variable 'value' & then use indexing\n",
    "    value = stored.find_all('span', attrs = {'name': 'nv'})\n",
    "    vote = value[0].text.replace ('\\n',' ')# text.replace('\\n',' ') used to deal with 'none' values\n",
    "    votes.append(vote)\n",
    "# votes\n",
    "    grosses = value[0].text if len(value) >1 else '*****'\n",
    "    gross.append(grosses) \n",
    "# gross\n",
    "    describe = stored.find_all('p', class_ = 'text-muted')\n",
    "    description_ = describe[1].text.replace('\\n', '') if len(describe) >1 else '*****'\n",
    "    description.append(description_)\n",
    "# description"
   ]
  },
  {
   "cell_type": "code",
   "execution_count": 56,
   "id": "aed31bf9",
   "metadata": {},
   "outputs": [],
   "source": [
    "Movies_DF = pd.DataFrame({'Rank': rank, 'Name of movie': movie_name, 'Year of relase': year, 'Watchtime': duration, 'Movie_rating': rating, 'Metascore': metascore, 'Votes': votes, 'Gross': gross, 'Description': description})"
   ]
  },
  {
   "cell_type": "code",
   "execution_count": 57,
   "id": "b40da7b5",
   "metadata": {},
   "outputs": [
    {
     "data": {
      "text/html": [
       "<div>\n",
       "<style scoped>\n",
       "    .dataframe tbody tr th:only-of-type {\n",
       "        vertical-align: middle;\n",
       "    }\n",
       "\n",
       "    .dataframe tbody tr th {\n",
       "        vertical-align: top;\n",
       "    }\n",
       "\n",
       "    .dataframe thead th {\n",
       "        text-align: right;\n",
       "    }\n",
       "</style>\n",
       "<table border=\"1\" class=\"dataframe\">\n",
       "  <thead>\n",
       "    <tr style=\"text-align: right;\">\n",
       "      <th></th>\n",
       "      <th>Rank</th>\n",
       "      <th>Name of movie</th>\n",
       "      <th>Year of relase</th>\n",
       "      <th>Watchtime</th>\n",
       "      <th>Movie_rating</th>\n",
       "      <th>Metascore</th>\n",
       "      <th>Votes</th>\n",
       "      <th>Gross</th>\n",
       "      <th>Description</th>\n",
       "    </tr>\n",
       "  </thead>\n",
       "  <tbody>\n",
       "    <tr>\n",
       "      <th>0</th>\n",
       "      <td>1</td>\n",
       "      <td>Jai Bhim</td>\n",
       "      <td>(2021)</td>\n",
       "      <td>164</td>\n",
       "      <td>9.4</td>\n",
       "      <td>None</td>\n",
       "      <td>184,349</td>\n",
       "      <td>*****</td>\n",
       "      <td>When a tribal man is arrested for a case of al...</td>\n",
       "    </tr>\n",
       "    <tr>\n",
       "      <th>1</th>\n",
       "      <td>2</td>\n",
       "      <td>Soorarai Pottru</td>\n",
       "      <td>(2020)</td>\n",
       "      <td>153</td>\n",
       "      <td>9.3</td>\n",
       "      <td>None</td>\n",
       "      <td>109,084</td>\n",
       "      <td>*****</td>\n",
       "      <td>Nedumaaran Rajangam \"Maara\" sets out to make t...</td>\n",
       "    </tr>\n",
       "    <tr>\n",
       "      <th>2</th>\n",
       "      <td>3</td>\n",
       "      <td>The Shawshank Redemption</td>\n",
       "      <td>(1994)</td>\n",
       "      <td>142</td>\n",
       "      <td>9.3</td>\n",
       "      <td>[81        ]</td>\n",
       "      <td>2,568,578</td>\n",
       "      <td>2,568,578</td>\n",
       "      <td>Two imprisoned men bond over a number of years...</td>\n",
       "    </tr>\n",
       "    <tr>\n",
       "      <th>3</th>\n",
       "      <td>4</td>\n",
       "      <td>The Godfather</td>\n",
       "      <td>(1972)</td>\n",
       "      <td>175</td>\n",
       "      <td>9.2</td>\n",
       "      <td>[100        ]</td>\n",
       "      <td>1,768,337</td>\n",
       "      <td>1,768,337</td>\n",
       "      <td>The aging patriarch of an organized crime dyna...</td>\n",
       "    </tr>\n",
       "    <tr>\n",
       "      <th>4</th>\n",
       "      <td>5</td>\n",
       "      <td>The Dark Knight</td>\n",
       "      <td>(2008)</td>\n",
       "      <td>152</td>\n",
       "      <td>9.1</td>\n",
       "      <td>[84        ]</td>\n",
       "      <td>2,533,318</td>\n",
       "      <td>2,533,318</td>\n",
       "      <td>When the menace known as the Joker wreaks havo...</td>\n",
       "    </tr>\n",
       "    <tr>\n",
       "      <th>5</th>\n",
       "      <td>6</td>\n",
       "      <td>The Lord of the Rings: The Return of the King</td>\n",
       "      <td>(2003)</td>\n",
       "      <td>201</td>\n",
       "      <td>9.0</td>\n",
       "      <td>[94        ]</td>\n",
       "      <td>1,767,120</td>\n",
       "      <td>1,767,120</td>\n",
       "      <td>Gandalf and Aragorn lead the World of Men agai...</td>\n",
       "    </tr>\n",
       "    <tr>\n",
       "      <th>6</th>\n",
       "      <td>7</td>\n",
       "      <td>Schindler's List</td>\n",
       "      <td>(1993)</td>\n",
       "      <td>195</td>\n",
       "      <td>9.0</td>\n",
       "      <td>[94        ]</td>\n",
       "      <td>1,308,756</td>\n",
       "      <td>1,308,756</td>\n",
       "      <td>In German-occupied Poland during World War II,...</td>\n",
       "    </tr>\n",
       "    <tr>\n",
       "      <th>7</th>\n",
       "      <td>8</td>\n",
       "      <td>The Godfather: Part II</td>\n",
       "      <td>(1974)</td>\n",
       "      <td>202</td>\n",
       "      <td>9.0</td>\n",
       "      <td>[90        ]</td>\n",
       "      <td>1,223,390</td>\n",
       "      <td>1,223,390</td>\n",
       "      <td>The early life and career of Vito Corleone in ...</td>\n",
       "    </tr>\n",
       "    <tr>\n",
       "      <th>8</th>\n",
       "      <td>9</td>\n",
       "      <td>12 Angry Men</td>\n",
       "      <td>(1957)</td>\n",
       "      <td>96</td>\n",
       "      <td>9.0</td>\n",
       "      <td>[96        ]</td>\n",
       "      <td>758,586</td>\n",
       "      <td>758,586</td>\n",
       "      <td>The jury in a New York City murder trial is fr...</td>\n",
       "    </tr>\n",
       "    <tr>\n",
       "      <th>9</th>\n",
       "      <td>10</td>\n",
       "      <td>Shershaah</td>\n",
       "      <td>(2021)</td>\n",
       "      <td>135</td>\n",
       "      <td>8.9</td>\n",
       "      <td>None</td>\n",
       "      <td>115,777</td>\n",
       "      <td>*****</td>\n",
       "      <td>The story of PVC awardee Indian soldier Capt. ...</td>\n",
       "    </tr>\n",
       "    <tr>\n",
       "      <th>10</th>\n",
       "      <td>11</td>\n",
       "      <td>The Lord of the Rings: The Fellowship of the Ring</td>\n",
       "      <td>(2001)</td>\n",
       "      <td>178</td>\n",
       "      <td>8.9</td>\n",
       "      <td>[92        ]</td>\n",
       "      <td>1,788,855</td>\n",
       "      <td>1,788,855</td>\n",
       "      <td>A meek Hobbit from the Shire and eight compani...</td>\n",
       "    </tr>\n",
       "  </tbody>\n",
       "</table>\n",
       "</div>"
      ],
      "text/plain": [
       "   Rank                                      Name of movie Year of relase  \\\n",
       "0     1                                           Jai Bhim         (2021)   \n",
       "1     2                                    Soorarai Pottru         (2020)   \n",
       "2     3                           The Shawshank Redemption         (1994)   \n",
       "3     4                                      The Godfather         (1972)   \n",
       "4     5                                    The Dark Knight         (2008)   \n",
       "5     6      The Lord of the Rings: The Return of the King         (2003)   \n",
       "6     7                                   Schindler's List         (1993)   \n",
       "7     8                             The Godfather: Part II         (1974)   \n",
       "8     9                                       12 Angry Men         (1957)   \n",
       "9    10                                          Shershaah         (2021)   \n",
       "10   11  The Lord of the Rings: The Fellowship of the Ring         (2001)   \n",
       "\n",
       "   Watchtime Movie_rating      Metascore      Votes      Gross  \\\n",
       "0       164           9.4           None    184,349      *****   \n",
       "1       153           9.3           None    109,084      *****   \n",
       "2       142           9.3   [81        ]  2,568,578  2,568,578   \n",
       "3       175           9.2  [100        ]  1,768,337  1,768,337   \n",
       "4       152           9.1   [84        ]  2,533,318  2,533,318   \n",
       "5       201           9.0   [94        ]  1,767,120  1,767,120   \n",
       "6       195           9.0   [94        ]  1,308,756  1,308,756   \n",
       "7       202           9.0   [90        ]  1,223,390  1,223,390   \n",
       "8        96           9.0   [96        ]    758,586    758,586   \n",
       "9       135           8.9           None    115,777      *****   \n",
       "10      178           8.9   [92        ]  1,788,855  1,788,855   \n",
       "\n",
       "                                          Description  \n",
       "0   When a tribal man is arrested for a case of al...  \n",
       "1   Nedumaaran Rajangam \"Maara\" sets out to make t...  \n",
       "2   Two imprisoned men bond over a number of years...  \n",
       "3   The aging patriarch of an organized crime dyna...  \n",
       "4   When the menace known as the Joker wreaks havo...  \n",
       "5   Gandalf and Aragorn lead the World of Men agai...  \n",
       "6   In German-occupied Poland during World War II,...  \n",
       "7   The early life and career of Vito Corleone in ...  \n",
       "8   The jury in a New York City murder trial is fr...  \n",
       "9   The story of PVC awardee Indian soldier Capt. ...  \n",
       "10  A meek Hobbit from the Shire and eight compani...  "
      ]
     },
     "execution_count": 57,
     "metadata": {},
     "output_type": "execute_result"
    }
   ],
   "source": [
    "Movies_DF.head(11)"
   ]
  },
  {
   "cell_type": "code",
   "execution_count": 58,
   "id": "1792ec80",
   "metadata": {},
   "outputs": [
    {
     "data": {
      "text/plain": [
       "100"
      ]
     },
     "execution_count": 58,
     "metadata": {},
     "output_type": "execute_result"
    }
   ],
   "source": [
    "np.count_nonzero(movie_name)"
   ]
  }
 ],
 "metadata": {
  "kernelspec": {
   "display_name": "Python 3",
   "language": "python",
   "name": "python3"
  },
  "language_info": {
   "codemirror_mode": {
    "name": "ipython",
    "version": 3
   },
   "file_extension": ".py",
   "mimetype": "text/x-python",
   "name": "python",
   "nbconvert_exporter": "python",
   "pygments_lexer": "ipython3",
   "version": "3.8.1"
  }
 },
 "nbformat": 4,
 "nbformat_minor": 5
}
